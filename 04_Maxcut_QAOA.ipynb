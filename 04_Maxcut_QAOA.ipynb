{
 "cells": [
  {
   "cell_type": "markdown",
   "id": "e0d87477-b242-4fe5-a8e4-acb0dede4fb3",
   "metadata": {
    "tags": []
   },
   "source": [
    "# Solve MaxCut Using Quantum Approximate Optimization Algorithm (QAOA)\n",
    "<ul>\n",
    "<li>Contributors: IBM Quantum team and Research Technology Education team\n",
    "<li>Contact for questions and technical support: IBM.Research.JupyterLab@ibm.com\n",
    "<li>Provenance: IBM Research\n",
    "<li>Version: 1.0.6\n",
    "<li>Release date: 2023-12-01\n",
    "<li>Compute requirements: CPU: estimated 2 minutes for default settings, 30 minutes or more for large graphs on real backends\n",
    "<li>Memory requirements: 16 GB\n",
    "<li>Notebook set: Quantum Notebooks\n",
    "</ul>"
   ]
  },
  {
   "cell_type": "markdown",
   "id": "752344a6-71fa-473b-b56f-c8e89740b053",
   "metadata": {
    "jp-MarkdownHeadingCollapsed": true,
    "tags": []
   },
   "source": [
    "# Demo Controls\n",
    "\n",
    "Please review the documentation in the next cell for important demo controls. Here is some additional guidance.\n",
    "\n",
    "If you want the output of the notebook printed on a dual screen, set `dual_screen` to True in the the next cell. If you don't want a dual screen, set `dual_screen` to False.\n",
    "\n",
    "If `dual_screen` is True, do the following:\n",
    "- Select **Kernel/Restart Kernel and Clear All Outputs**.\n",
    "- Run the next cell.\n",
    "- Right click on the same cell near the line at the bottom of the cell and select **Create New View for Output**.\n",
    "- You will see a new panel at the bottom of your screen labeled **Output View**. Drag the **Output View** panel to the top right side of the JupyterLab and it will cover the whole right side of your screen when you drop it.\n",
    "- Since the screen is getting a bit crowded, you can temporarily hide the File Browser by toggling the File Browser icon on the top left of the JupyterLab.\n",
    "- Always run the notebook using **Kernel/Restart Kernel and Run All Cells**.\n",
    "\n",
    "If you want to use a real Quantum backend, you will need a Quantum token that supports Sessions. Sessions are used in the optimization (Step 3). Please check with your administrator on Sessions support. If you choose a simulator as your backend, you will not need to token with Sessions support, but your graph will be limited to a maximum of 20 nodes.\n",
    "\n",
    "Here are some recommended control sets:\n",
    "\n",
    "1. A fast demo of a small graph on a simulator:\n",
    "\n",
    "- n = 7                         (any number of nodes <= 20)\n",
    "- use_coupling_map = False      (generate random graph)\n",
    "- edge_density = 0.5            (fairly dense)\n",
    "- opt_iterations = 30           (number of optimization iterations)\n",
    "- num_shots = 10000             (number of sampling shots)\n",
    "- num_bitstrings = 500000       (max number of top bitstrings to evaluate for best maxcut value)\n",
    "- show_bitstrings = False       (T: can be used to debug small graphs)\n",
    "- specific_backend = True       (use specific backend)\n",
    "- resource = \"FakeTokyo\"        (good simulator for our purposes)\n",
    "- skip_opt = False              (run optimization)\n",
    "\n",
    "2. A fast demo showing saved results for n=100 on ibm_brisbane\n",
    "\n",
    "- n = 99                        (n=99 is a special flag for showing saved results of a specific 100-node graph)\n",
    "\n",
    "3. Random medium sized graph on a real backend\n",
    "\n",
    "- n = 22                        (number of nodes)\n",
    "- use_coupling_map = False      (generate random graph)\n",
    "- edge_density = 0.4            (fairly dense)\n",
    "- opt_iterations = 30           (number of optimization iterations)\n",
    "- num_shots = 10000             (number of sampling shots)\n",
    "- num_bitstrings = 500000       (max number of top bitstrings to evaluate for best maxcut value)\n",
    "- show_bitstrings = False       (avoid using this flag on large graphs as it will exceed printing limits)\n",
    "- specific_backend = True       (use specific backend)\n",
    "- resource = \"ibm_brisbane\"     (avoid backends that don't converge for optimization)\n",
    "- skip_opt = False              (run optimization)\n",
    "\n",
    "4. Large graph on a real backend based on coupling map\n",
    "\n",
    "- n = 100                       (select any number of nodes <= 127>\n",
    "- use_coupling_map = True       (base graph on physical coupling map so circuit is not too deep)\n",
    "- edge_density = 0.02           (edge_density is ignored for coupling map option)\n",
    "- opt_iterations = 30           (number of optimization iterations)\n",
    "- num_shots = 100000            (number of sampling shots)\n",
    "- num_bitstrings = 500000       (max number of top bitstrings to evaluate for best maxcut value)\n",
    "- show_bitstrings = False       (avoid using this flag on large graphs as it will exceed printing limits)\n",
    "- specific_backend = True       (use specific backend)\n",
    "- resource = \"ibm_brisbane\"     (avoid backends that don't converge for optimization)\n",
    "- skip_opt = False              (run optimization)"
   ]
  },
  {
   "cell_type": "code",
   "execution_count": 1,
   "id": "8826a8a8-f67f-460b-a429-2da19e3acf5d",
   "metadata": {},
   "outputs": [
    {
     "data": {
      "application/vnd.jupyter.widget-view+json": {
       "model_id": "6afdb914c23a49f084650553d03f0fb7",
       "version_major": 2,
       "version_minor": 0
      },
      "text/plain": [
       "Output(layout=Layout(border='1px solid black'))"
      ]
     },
     "metadata": {},
     "output_type": "display_data"
    }
   ],
   "source": [
    "dual_screen = True            # T: send output to second screen for demos\n",
    "\n",
    "n = 8                     # number of nodes\n",
    "                              #  for n<=20 you can specify a simulator or a real backend\n",
    "                              #  for n>20 you must specify a real backend\n",
    "                              #  n=99 is a special flag for showing saved results of a 100-node graph\n",
    "use_coupling_map = False      # T: base graph on physical coupling map so circuit is not too deep, F: try a random graph\n",
    "                              #  a physical coupling map reflects how a real backend's qubits are actually connected\n",
    "edge_density = 0.3            # fraction of all possible edges that appear in random graphs\n",
    "                              #  for large graphs, use low density (<= 0.03) to avoid circuit depth issues \n",
    "opt_iterations = 30           # number of optimization iterations\n",
    "num_shots = 10000             # number of sampling shots\n",
    "num_bitstrings = 500000       # max number of top bitstrings to evaluate for best maxcut value\n",
    "show_bitstrings = False       # T: for debugging small graphs\n",
    "specific_backend = True       # T: use specific backend; F: select least busy backend\n",
    "                              # least busy backend is risky, you may get a backend that doesn't converge for optimization\n",
    "resource = \"FakeTokyo\"        # use this simulator if specific_backend = True\n",
    "#resource = \"ibm_brisbane\"    # use this real backend if specific_backend = True\n",
    "skip_opt = False              # T: for faster runs when you already ran optimization and have a good resultx\n",
    "resultx = [4.375e+00, 3.534e-01]   # got this value for n=100 with coupling map graph on ibm_brisbane\n",
    "\n",
    "import matplotlib.pyplot as plt\n",
    "import matplotlib\n",
    "from IPython.display import Image, display\n",
    "import ipywidgets as widgets\n",
    "from ipynb_pause import flow\n",
    "\n",
    "H1 = \"<h1 style='font-family:IBM Plex Sans;font-size:28px'>\"\n",
    "H2 = \"<h1 style='font-family:IBM Plex Sans;font-size:24px'>\"\n",
    "Norm = \"<h1 style='font-family:IBM Plex Sans;font-size:20px'>\"\n",
    "Ex = \"<h1 style='font-family:IBM Plex Sans;font-size:20px;font-style:italic'>\"\n",
    "\n",
    "out = widgets.Output(layout={'border': '1px solid black'})\n",
    "run=flow.display_mode(mode=dual_screen, output=out, color='darkblue')\n",
    "if dual_screen:\n",
    "    display(out)\n",
    "\n",
    "# for carbon compliant plots\n",
    "# %run '/opt/ibm/visualization/matplotlib/matplotlib_template_dark.ipynb'"
   ]
  },
  {
   "cell_type": "markdown",
   "id": "ff8bbbc3-9dce-42f0-aa73-9d7692570cbe",
   "metadata": {},
   "source": [
    "# Table of Contents\n",
    "\n",
    "* [Summary](#nm_summary)\n",
    "* [Quantum Approximate Optimization Algorithm (QAOA)](#qaoa)\n",
    "* [Qiskit](#nm_qiskit)\n",
    "* [Build the Qiskit Pattern](#nm_pattern)\n",
    "    * [Step 0. Setup](#nm_set)\n",
    "    * [Step 1. Map problem to Quantum circuits and operators](#nm_map)\n",
    "    * [Step 2. Optimize for target hardware](#nm_opt)\n",
    "    * [Step 3. Execute on target hardware](#nm_execute)\n",
    "    * [Step 4. Post-process results](#nm_processing)\n",
    "* [Deploy the Qiskit Pattern to the Cloud](#nm_deploy)\n",
    "* [Run the Qiskit Pattern as a Managed Service](#nm_run)\n",
    "* [Conclusion](#nm_conclusion)\n",
    "* [Learn More](#nm_learn)"
   ]
  },
  {
   "cell_type": "markdown",
   "id": "41101c75-90ab-4077-bf50-e34e572f4c35",
   "metadata": {},
   "source": [
    "<a id=\"nm_summary\"></a>\n",
    "# Summary\n",
    "\n",
    "[MaxCut](https://en.wikipedia.org/wiki/Maximum_cut) is an NP-complete graph problem where the goal is to divide the vertices into two sets such that the first set has the largest number of edges leading to the second set. A simple MaxCut example is displayed in the next cell. \n",
    "\n",
    "MaxCut has applications in clustering, network science, and statistical physics. As a practical example, consider a system of many people who can interact and influence each other's buying decisions. The goal is to implement a marketing strategy where products are offered for free to some individuals in order to maximize revenues. Individuals are represented by vertices of a graph, and their interactions as edges between vertices. Influence strength can be modeled by weights assigned to the edges. MaxCut is used to identify the optimal subset of individuals that should get the free products.\n",
    "\n",
    "This notebook demonstrates how to solve MaxCut for a variety of graph sizes using the **Quantum Approximate Optimization Algorithm (QAOA)**, a hybrid quantum-classical iterative method. This notebook is based on [a notebook that is available on the Qiskit website](https://learning.quantum.ibm.com/tutorial/quantum-approximate-optimization-algorithm).\n",
    "\n",
    "NOTE: Running this notebook requires that you register on the **IBM Quantum Platform** in order to submit Quantum jobs to an IBM Quantum computer or simulator.  Registration instructions are provided in the next cell."
   ]
  },
  {
   "cell_type": "markdown",
   "id": "11784f7e-b01f-4ff0-a0a7-fbdb4acffb1f",
   "metadata": {},
   "source": [
    "<a id=\"qaoa\"></a>\n",
    "# Quantum Approximate Optimization Algorithm (QAOA)\n",
    "\n",
    "To give some context before mapping this problem to a quantum algorithm, you can better understand how the Max-Cut problem becomes a classical combinatorial optimization problem by first considering the minimization of a function $f(x)$\n",
    "\n",
    "$$\n",
    "\\min_{x\\in \\{0, 1\\}^n}f(x),\n",
    "$$\n",
    "\n",
    "where the input $x$ is a vector whose components correspond to each node of a graph.  Then, constrain each of these components to be either $0$ or $1$ (which represent being included or not included in the cut). This small-scale example case uses a graph with $n=5$ nodes.\n",
    "\n",
    "You could write a function of a pair of nodes $i,j$ which indicates whether the corresponding edge $(i,j)$ is in the cut. For example, the function $x_i + x_j - 2 x_i x_j$ is 1 only if one of either $x_i$ or $x_j$ are 1 (which means that the edge is in the cut) and zero otherwise. The problem of maximizing the edges in the cut can be formulated as\n",
    "\n",
    "$$\n",
    "\\max_{x\\in \\{0, 1\\}^n} \\sum_{(i,j)} x_i + x_j - 2 x_i x_j,\n",
    "$$\n",
    "\n",
    "which can be rewritten as a minimization of the form\n",
    "\n",
    "$$\n",
    "\\min_{x\\in \\{0, 1\\}^n} \\sum_{(i,j)}  2 x_i x_j - x_i - x_j.\n",
    "$$\n",
    "\n",
    "The minimum of $f(x)$ in this case is when the number of edges traversed by the cut is maximal. As you can see, there is nothing relating to quantum computing yet. We need to reformulate this problem into something that a quantum computer can understand."
   ]
  },
  {
   "cell_type": "markdown",
   "id": "46b9b340-b23e-44aa-84be-d8d0b46e6ab1",
   "metadata": {},
   "source": [
    "<a id=\"nm_qiskit\"></a>\n",
    "# Qiskit\n",
    "\n",
    "[Qiskit](https://qiskit.org) is an open-source software development kit for working with Quantum computers at the level of circuits, pulses, and algorithms. It provides tools for creating and manipulating Quantum programs and running them on prototype Quantum devices on the IBM Quantum Platform or on simulators on a local computer. \n",
    "\n",
    "[Qiskit Runtime](https://www.ibm.com/quantum/qiskit-runtime) is IBM's Quantum computing service and programming model for building, optimizing, and executing workloads at scale using Qiskit. Qiskit Runtime introduces primitives to seamlessly perform foundational Quantum computing tasks with increased performance. Qiskit Runtime improves operational efficiency by offering a containerized execution environment. Qiskit Runtime demonstrates dramatic performance increases over previous approaches, offering up to a 120X speedup for some applications. Through controllable error mitigation and suppression, Qiskit Runtime enables users to manage the performance of hardware systems. With error mitigation, Qiskit Runtime demonstrates significant improvement in the quality of results.\n",
    "\n",
    "## Creating a Qiskit pattern\n",
    "\n",
    "Creating utility-scale quantum applications typically requires a variety of compute resources. A **Qiskit Pattern** outlines an intuitive, repeatable set of steps for implementing a Quantum computing workflow.\n",
    "\n",
    "Steps in a Qiskit Pattern:\n",
    "1. Map problem to Quantum circuits and operators\n",
    "2. Optimize for target hardware\n",
    "3. Execute on target hardware\n",
    "4. Post-process results\n",
    "\n",
    "Once we have built a Qiskit Pattern, we can use [Quantum Serverless](https://docs.quantum.ibm.com/run/quantum-serverless) to deploy it and submit it for managed execution. This can be done in three steps:\n",
    "1. Build the Qiskit Pattern\n",
    "2. Deploy to the cloud\n",
    "3. Run the Qiskit Pattern on managed compute resources\n",
    "\n",
    "## Instructions for accessing Qiskit in this notebook\n",
    "\n",
    "Running this notebook requires that you register on the [IBM Quantum Platform](https://quantum-computing.ibm.com/) in order to submit Quantum jobs.  This only needs to be done when this notebook set is installed or updated to a new version. To do this:\n",
    "1. Log into the [IBM Quantum Platform](https://quantum-computing.ibm.com/).\n",
    "2. Copy the API token on the top right.\n",
    "3. In the File Browser on the left side of this JupyterLab, navigate to *Lab files/quantum-notebooks*.\n",
    "4. Right click on the `config.json` file and select **Open with->Editor**.\n",
    "5. Insert the copied API token in the *token* field within the quotation marks.\n",
    "6. Save the file by clicking on *File->Save JSON File* and exit the file. \n",
    "\n",
    "Whenever you update this notebook set to a new version, you will need to re-insert your API token in the `config.json` file. The `config.json` file also contains a *resource* field, which is preset to one of the compute resources (Quantum computers and simulators) available to you on the [IBM Quantum Platform](https://quantum-computing.ibm.com/) website. You can also modify this field.\n",
    "\n",
    "When running this notebook, log into the [IBM Quantum Platform](https://quantum-computing.ibm.com/) in another browser window. Quantum jobs are queued on compute resources, which sometimes causes a delay in notebook execution. You can monitor such delays in the Dashboard of the IBM Quantum Platform. "
   ]
  },
  {
   "cell_type": "markdown",
   "id": "3eecc2ab-78c6-4454-84a9-82dd2d3017d7",
   "metadata": {},
   "source": [
    "<a id=\"nm_pattern\"></a>\n",
    "# Build the Qiskit Pattern\n",
    "\n",
    "We will implement our pattern using the four steps outlined above."
   ]
  },
  {
   "cell_type": "markdown",
   "id": "4c1f0692-ebbf-43ed-8766-72b2c02a665d",
   "metadata": {},
   "source": [
    "<a id=\"nm_set\"></a>\n",
    "# Step 0. Setup\n",
    "\n",
    "Import some generic packages."
   ]
  },
  {
   "cell_type": "code",
   "execution_count": 2,
   "id": "c322b8d5-81ae-41b7-8dcb-be9d3b6b86db",
   "metadata": {},
   "outputs": [
    {
     "name": "stderr",
     "output_type": "stream",
     "text": [
      "<string>:1: DeprecationWarning: The class ``qiskit.providers.models.backendconfiguration.GateConfig`` is deprecated as of qiskit 1.2. It will be removed in the 2.0 release. The models in ``qiskit.providers.models`` are part of the deprecated `BackendV1` workflow  and no longer necessary for `BackendV2`. If a user workflow requires these representations it likely relies on deprecated functionality and should be updated to use `BackendV2`.\n",
      "<string>:1: DeprecationWarning: The class ``qiskit.providers.models.backendconfiguration.QasmBackendConfiguration`` is deprecated as of qiskit 1.2. It will be removed in the 2.0 release. The models in ``qiskit.providers.models`` are part of the deprecated `BackendV1` workflow and no longer necessary for `BackendV2`. If a user workflow requires these representations it likely relies on deprecated functionality and should be updated to use `BackendV2`.\n"
     ]
    },
    {
     "name": "stdout",
     "output_type": "stream",
     "text": [
      "Compute resource: FakeTokyo\n",
      "Qiskit version: 1.2.4\n",
      "Qiskit Runtime version: 0.24.0\n"
     ]
    },
    {
     "data": {
      "application/vnd.jupyter.widget-view+json": {
       "model_id": "6da180f26f774b6e860e69dd91b3c468",
       "version_major": 2,
       "version_minor": 0
      },
      "text/plain": [
       "Button(description='Continue', style=ButtonStyle(button_color='darkblue'))"
      ]
     },
     "metadata": {},
     "output_type": "display_data"
    }
   ],
   "source": [
    "import rustworkx as rx\n",
    "from rustworkx.visualization import mpl_draw as draw_graph\n",
    "import numpy as np\n",
    "import math\n",
    "import json\n",
    "import qiskit\n",
    "import qiskit_ibm_runtime\n",
    "from qiskit_ibm_runtime import QiskitRuntimeService\n",
    "from qiskit_ibm_runtime import Session, EstimatorV2 as Estimator\n",
    "from qiskit_ibm_runtime import SamplerV2 as Sampler\n",
    "from qiskit_ibm_runtime.fake_provider import FakeTokyo         # 20 qubits\n",
    "from qiskit.transpiler.preset_passmanagers import generate_preset_pass_manager\n",
    "from qiskit.circuit.library import QAOAAnsatz\n",
    "from qiskit.quantum_info import SparsePauliOp\n",
    "from scipy.optimize import minimize\n",
    "from typing import Sequence\n",
    "import time\n",
    "\n",
    "# make sure API token has been provided\n",
    "\n",
    "with open('config.json') as data_file:\n",
    "    data = json.load(data_file)\n",
    "token = data['token']\n",
    "if token == '':\n",
    "    if dual_screen:\n",
    "        with out:\n",
    "            out.clear_output()\n",
    "            display(widgets.HTML(Norm+\"Error: No API token provided in config.json\"))\n",
    "    raise SystemExit(\"No API token provided in config.json\")\n",
    "    \n",
    "# make sure real backend is provided for n>20\n",
    "\n",
    "if n>20 and n!=99 and specific_backend and resource[:4]==\"Fake\":\n",
    "    if dual_screen:\n",
    "        with out:\n",
    "            out.clear_output()\n",
    "            display(widgets.HTML(Norm+\"Error: Must use real backend for n>20\"))\n",
    "    raise SystemExit(\"Must use real backend for n>20\")\n",
    "    \n",
    "# make sure use_coupling_map is being used properly\n",
    "\n",
    "if use_coupling_map and specific_backend==True and resource[:4]==\"Fake\":\n",
    "    if dual_screen:\n",
    "        with out:\n",
    "            out.clear_output()\n",
    "            display(widgets.HTML(Norm+\"Error: use_coupling_map cannot be applied to simulator\"))\n",
    "    raise SystemExit(\"use_coupling_map cannot be applied to simulator\")\n",
    "    \n",
    "# make sure edge_density is valid\n",
    "\n",
    "if edge_density <= 0.0 or edge_density > 1.0:\n",
    "    if dual_screen:\n",
    "        with out:\n",
    "            out.clear_output()\n",
    "            display(widgets.HTML(Norm+\"Error: invalid edge_density\"))\n",
    "    raise SystemExit(\"invalid edge_density\")\n",
    "    \n",
    "# establish a backend\n",
    "\n",
    "QiskitRuntimeService.save_account(channel=\"ibm_quantum\", token=token, overwrite=True, set_as_default=True)\n",
    "service = QiskitRuntimeService(channel='ibm_quantum')\n",
    "# service = QiskitRuntimeService(channel=\"ibm_quantum\",token=token)\n",
    "if specific_backend:\n",
    "    if resource[:4]==\"Fake\":\n",
    "        backend = eval(resource+\"()\")\n",
    "    else:\n",
    "        backend = service.backend(resource)\n",
    "else:\n",
    "    backend = service.least_busy(min_num_qubits=127)\n",
    "    resource = backend.name\n",
    "\n",
    "# display opening screen\n",
    "\n",
    "if dual_screen:\n",
    "    with out:\n",
    "        out.clear_output()\n",
    "        display(widgets.HTML(H1+\"Step 0: Setup\"))\n",
    "        display(widgets.HTML(Norm+\"MaxCut is an NP-complete graph problem where the goal is to divide the nodes into two sets such that the number of edges between the sets is maximized.</li>\"))\n",
    "        display(widgets.HTML(Norm+\"Example application: Consider a marketing strategy in which products are offered for free to some customers. Identify the free customers in order to maximize revenues.</li>\"))\n",
    "        display(widgets.HTML(Norm+\"Example network:</li>\"))\n",
    "        img = plt.imread('./data/img/maxcut.png')\n",
    "        plt.figure(figsize = (2,2))\n",
    "        plt.imshow(img)\n",
    "        plt.axis('off')\n",
    "        plt.show()\n",
    "        display(widgets.HTML(Ex+\"https://en.wikipedia.org/wiki/Maximum_cut\"))\n",
    "        display(widgets.HTML(Norm+\"Compute resource: \"+resource))\n",
    "else:\n",
    "    print(\"MaxCut is an NP-complete graph problem where the goal is to divide the nodes into two sets such that the number of edges between the sets is maximized.\")\n",
    "    print(\"Example application: Consider a marketing strategy in which products are offered for free to some customers. Identify the free customers in order to maximize revenues.\")\n",
    "    print(\"MaxCut example (https://en.wikipedia.org/wiki/Maximum_cut):\")\n",
    "    display(Image(filename='./data/img/maxcut.png',width=200))\n",
    "\n",
    "print(f\"Compute resource: {resource}\")\n",
    "print(f\"Qiskit version: {qiskit.version.get_version_info()}\")\n",
    "print(f\"Qiskit Runtime version: {qiskit_ibm_runtime.version.get_version_info()}\")\n",
    "\n",
    "run.pause()"
   ]
  },
  {
   "cell_type": "markdown",
   "id": "d85b8f60-c993-4296-a349-6d9a56fa7a17",
   "metadata": {},
   "source": [
    "<a id=\"nm_map\"></a>\n",
    "# Step 1: Map problem to Quantum circuits and operators\n",
    "\n",
    "## Create a classical graph\n",
    "\n",
    "We provide options for small and large (utility scale) graphs."
   ]
  },
  {
   "cell_type": "code",
   "execution_count": 3,
   "id": "bd7f9b2b-b70c-40d4-80d4-e29df396a5ae",
   "metadata": {},
   "outputs": [
    {
     "name": "stdout",
     "output_type": "stream",
     "text": [
      "Creating random graph where n=8, e=8, density=0.3, MaxCut value = unknown\n",
      "Creating edge (0,4)\n",
      "Creating edge (1,3)\n",
      "Creating edge (1,4)\n",
      "Creating edge (2,4)\n",
      "Creating edge (3,6)\n",
      "Creating edge (4,6)\n",
      "Creating edge (5,6)\n",
      "Creating edge (6,7)\n"
     ]
    }
   ],
   "source": [
    "def random_graph(n, density):\n",
    "    \"\"\" Build a random graph of a given edge density\n",
    "    If N is 5, 10, or 100, predefined graphs are created where we know the MaxCut values.\n",
    "    Otherwise, random graphs are returned.\n",
    "\n",
    "    Parameters:\n",
    "        N (int): Number of nodes\n",
    "        density (float): Fraction of all possible edges that appear in the graph (between 0.0 and 1.0)\n",
    "\n",
    "    Returns:\n",
    "        ndarray: Adjacency matrix as NumPy array\n",
    "    \"\"\"\n",
    "    global resource\n",
    "    if n==99:      # special case where saved results of 100 node graph will be shown\n",
    "        N = 100\n",
    "    else:\n",
    "        N = n      # actual number of nodes in graph, overriding 99 flag\n",
    "    g = rx.PyGraph()\n",
    "    g.add_nodes_from(np.arange(0, N, 1))\n",
    "    max_edges = N*(N-1)//2\n",
    "    if n==99:   # special case where saved results of a specific 100 node graph will be shown\n",
    "        edge_list = [(0,1,1.0), (0,14,1.0),\n",
    "                     (1,2,1.0),\n",
    "                     (2,3,1.0),\n",
    "                     (3,4,1.0),\n",
    "                     (4,5,1.0), (4,15,1.0),\n",
    "                     (5,6,1.0),\n",
    "                     (6,7,1.0),\n",
    "                     (7,8,1.0),\n",
    "                     (8,9,1.0), (8,16,1.0),\n",
    "                     (9,10,1.0),\n",
    "                     (10,11,1.0),\n",
    "                     (11,12,1.0),\n",
    "                     (12,13,1.0), (12,17,1.0),\n",
    "                     (14,18,1.0),\n",
    "                     (15,22,1.0),\n",
    "                     (16,26,1.0),\n",
    "                     (17,30,1.0),\n",
    "                     (18,19,1.0),\n",
    "                     (19,20,1.0),\n",
    "                     (20,21,1.0), (20,33,1.0),\n",
    "                     (21,22,1.0),\n",
    "                     (22,23,1.0),\n",
    "                     (23,24,1.0),\n",
    "                     (24,25,1.0), (24,34,1.0),\n",
    "                     (25,26,1.0),\n",
    "                     (26,27,1.0),\n",
    "                     (27,28,1.0),\n",
    "                     (28,29,1.0), (28,35,1.0),\n",
    "                     (29,30,1.0),\n",
    "                     (30,31,1.0),\n",
    "                     (31,32,1.0),\n",
    "                     (32,36,1.0),\n",
    "                     (33,39,1.0),\n",
    "                     (34,43,1.0),\n",
    "                     (35,47,1.0),\n",
    "                     (36,51,1.0),\n",
    "                     (37,38,1.0), (37,52,1.0),\n",
    "                     (38,39,1.0),\n",
    "                     (39,40,1.0),\n",
    "                     (40,41,1.0),\n",
    "                     (41,42,1.0), (41,53,1.0),\n",
    "                     (42,43,1.0),\n",
    "                     (43,44,1.0),\n",
    "                     (44,45,1.0),\n",
    "                     (45,46,1.0), (45,54,1.0),\n",
    "                     (46,47,1.0),\n",
    "                     (47,48,1.0),\n",
    "                     (48,49,1.0),\n",
    "                     (49,50,1.0), (49,55,1.0),\n",
    "                     (50,51,1.0),\n",
    "                     (52,56,1.0),\n",
    "                     (53,60,1.0),\n",
    "                     (54,64,1.0),\n",
    "                     (55,68,1.0),\n",
    "                     (56,57,1.0),\n",
    "                     (57,58,1.0),\n",
    "                     (58,59,1.0), (58,71,1.0),\n",
    "                     (59,60,1.0),\n",
    "                     (60,61,1.0),\n",
    "                     (61,62,1.0),\n",
    "                     (62,63,1.0), (62,72,1.0),\n",
    "                     (63,64,1.0),\n",
    "                     (64,65,1.0),\n",
    "                     (65,66,1.0),\n",
    "                     (66,67,1.0), (66,73,1.0),\n",
    "                     (67,68,1.0),\n",
    "                     (68,69,1.0),\n",
    "                     (69,70,1.0),\n",
    "                     (70,74,1.0),\n",
    "                     (71,77,1.0),\n",
    "                     (72,81,1.0),\n",
    "                     (73,85,1.0),\n",
    "                     (74,89,1.0),\n",
    "                     (75,76,1.0), (75,90,1.0),\n",
    "                     (76,77,1.0),\n",
    "                     (77,78,1.0),\n",
    "                     (78,79,1.0),\n",
    "                     (79,80,1.0), (79,91,1.0),\n",
    "                     (80,81,1.0),\n",
    "                     (81,82,1.0),\n",
    "                     (82,83,1.0),\n",
    "                     (83,84,1.0), (83,92,1.0),\n",
    "                     (84,85,1.0),\n",
    "                     (85,86,1.0),\n",
    "                     (86,87,1.0),\n",
    "                     (87,88,1.0), (87,93,1.0),\n",
    "                     (88,89,1.0),\n",
    "                     (90,94,1.0),\n",
    "                     (91,98,1.0),\n",
    "                     (94,95,1.0),\n",
    "                     (95,96,1.0),\n",
    "                     (96,97,1.0),\n",
    "                     (97,98,1.0),\n",
    "                     (98,99,1.0)]\n",
    "        E = len(edge_list)\n",
    "        density = E/max_edges\n",
    "        print(f\"Creating predefined graph where n={N}, e={E}, density={density}, MaxCut value = 84\")\n",
    "    elif use_coupling_map:    # sparse graph that runs faster\n",
    "        edge_list = []\n",
    "        for edge in backend.coupling_map:\n",
    "            if edge[0] < N and edge[1] < N:\n",
    "                edge_list.append((edge[0], edge[1], 1.0))\n",
    "        E = len(edge_list)\n",
    "        density = E/max_edges\n",
    "        print(f\"Creating graph based on coupling map where n={N}, e={E}, density={density}, MaxCut value = unknown\")\n",
    "    else:         # here n<=20 and not 5 or 10 where graph is predefined\n",
    "        edge_list = []\n",
    "        E = math.floor(max_edges * density)\n",
    "        print(f\"Creating random graph where n={N}, e={E}, density={density}, MaxCut value = unknown\")\n",
    "        inds = np.sort(np.random.choice(max_edges, size=E, replace=False))\n",
    "        for k in inds:\n",
    "            i = N - 2 - int(math.sqrt(-8*k + 4*N*(N-1)-7)/2 - 0.5)\n",
    "            j = (k + i + 1 - N*(N-1)//2 + (N-i)*((N-i)-1)//2)\n",
    "            edge_list.append((i, j, 1.0))\n",
    "            print(f\"Creating edge ({i},{j})\")\n",
    "    g.add_edges_from(edge_list)\n",
    "    return g\n",
    "\n",
    "graph = random_graph(n, edge_density)\n",
    "if n==99:\n",
    "    N = 100\n",
    "else:\n",
    "    N = n\n",
    "E = len(graph.edge_list())\n",
    "max_edges = N*(N-1)//2\n",
    "density = E/max_edges\n",
    "\n",
    "# Print graph\n",
    "\n",
    "node_size = 300\n",
    "if dual_screen:\n",
    "    with out:\n",
    "        out.clear_output()\n",
    "        display(widgets.HTML(H1+\"Step 1. Map problem to Quantum circuits and operators\"))\n",
    "        display(widgets.HTML(Norm + \"Input graph with \" + str(N) + \" nodes and \" + str(E) + \" edges (density \" + str(round(density,2)) +\"):\"))\n",
    "        draw_graph(graph, node_color='cyan', node_size=node_size, with_labels=True, width=1)\n",
    "        plt.show()\n",
    "else:\n",
    "    print(\"Input graph:\")\n",
    "    draw_graph(graph, node_color='cyan', node_size=node_size, with_labels=True, width=1)"
   ]
  },
  {
   "cell_type": "markdown",
   "id": "caf7bd8c-d264-41cf-8ec6-f9076f1d73d0",
   "metadata": {},
   "source": [
    "## Map the graph to a Quantum problem\n",
    "\n",
    "Map the classical problem (graph) into quantum **circuits** and **operators**. To do this, there are three main steps to take:\n",
    "\n",
    "1. Utilize a series of mathematical reformulations, to represent this problem using the Quadratic Unconstrained Binary Optimization (QUBO) problems notation.\n",
    "2. Rewrite the optimization problem as a Hamiltonian for which the ground state corresponds to the solution which minimizes the cost function.\n",
    "3. Create a quantum circuit which will prepare the ground state of this Hamiltonian via a process similar to quantum annealing.\n",
    "\n",
    "**Note:** In the QAOA methodology, we ultimately want to have an operator (**Hamiltonian**) that represents the **cost function** of our hybrid algorithm, as well as a parametrized circuit (**Ansatz**) that represents quantum states with candidate solutions to the problem. You can sample from these candidate states and then evaluate them using the cost function.\n",
    "\n",
    "### Graph → optimization problem\n",
    "\n",
    "The first step of the mapping is a notation change, The following expresses the problem in QUBO notation:\n",
    "\n",
    "$$\n",
    "\\min_{x\\in \\{0, 1\\}^n}x^T Q x,\n",
    "$$\n",
    "\n",
    "where $Q$ is a $n\\times n$ matrix of real numbers, $n$ corresponds to the number of nodes in your graph, $x$ is the vector of binary variables introduced above, and $x^T$ indicates the transpose of the vector $x$.\n",
    "\n",
    "```\n",
    "Maximize\n",
    " -2*x_0*x_1 - 2*x_0*x_2 - 2*x_0*x_4 - 2*x_1*x_2 - 2*x_2*x_3 - 2*x_3*x_4 + 3*x_0\n",
    " + 2*x_1 + 3*x_2 + 2*x_3 + 2*x_4\n",
    "\n",
    "Subject to\n",
    "  No constraints\n",
    "\n",
    "  Binary variables (5)\n",
    "    x_0 x_1 x_2 x_3 x_4\n",
    "```\n",
    "\n",
    "### Optimization problem → Hamiltonian\n",
    "\n",
    "You can then reformulate the QUBO problem as a **Hamiltonian** (here, a matrix that represents the energy of a system):\n",
    "\n",
    "$$\n",
    "H_C=\\sum_{ij}Q_{ij}Z_iZ_j + \\sum_i b_iZ_i.\n",
    "$$\n",
    "\n",
    "> **Reformulation steps from the QAOA problem to the Hamiltonian**\n",
    "\n",
    "> To demonstrate how the QAOA problem can be rewritten in this way, first replace the binary variables $x_i$ to a new set of variables $z_i\\in\\{-1, 1\\}$ via\n",
    ">\n",
    "> $$\n",
    "> x_i = \\frac{1-z_i}{2}.\n",
    "> $$\n",
    ">\n",
    "> Here you can see that if $x_i$ is $0$, then $z_i$ must be $1$. When the $x_i$'s are substituted for the $z_i$'s in the optimization problem ($x^TQx$), an equivalent formulation can be obtained.\n",
    ">\n",
    "> $$\n",
    "> x^TQx=\\sum_{ij}Q_{ij}x_ix_j \\\\ =\\frac{1}{4}\\sum_{ij}Q_{ij}(1-z_i)(1-z_j) \\\\=\\frac{1}{4}\\sum_{ij}Q_{ij}z_iz_j-\\frac{1}{4}\\sum_{ij}(Q_{ij}+Q_{ji})z_i + \\frac{n^2}{4}.\n",
    "> $$\n",
    ">\n",
    "> Now if we define $b_i=-\\sum_{j}(Q_{ij}+Q_{ji})$, remove the prefactor, and the constant $n^2$ term, we arrive at the two equivalent formulations of the same optimization problem.\n",
    ">\n",
    "> $$\n",
    "> \\min_{x\\in\\{0,1\\}^n} x^TQx\\Longleftrightarrow \\min_{z\\in\\{-1,1\\}^n}z^TQz + b^Tz\n",
    "> $$\n",
    ">\n",
    "> Here, $b$ depends on $Q$. Note that to obtain $z^TQz + b^Tz$ we dropped the factor of 1/4 and a constant offset of $n^2$ which do not play a role in the optimization.\n",
    ">\n",
    "> Now, to obtain a quantum formulation of the problem, promote the $z_i$ variables to a Pauli $Z$ matrix, such as a $2\\times 2$ matrix of the form\n",
    ">\n",
    "> $$\n",
    "> Z_i = \\begin{pmatrix}1 & 0 \\\\ 0 & -1\\end{pmatrix}.\n",
    "> $$\n",
    ">\n",
    "> When you substitute these matrices in the optimization problem above, you obtain the following Hamiltonian\n",
    ">\n",
    "> $$\n",
    "> H_C=\\sum_{ij}Q_{ij}Z_iZ_j + \\sum_i b_iZ_i.\n",
    "> $$\n",
    ">\n",
    "> *Also recall that the $Z$ matrices are embedded in the quantum computer's computational space, i.e., a Hilbert space of size $2^n\\times 2^n$. Therefore, you should understand terms such as $Z_iZ_j$ as the tensor product $Z_i\\otimes Z_j$ embedded in the $2^n\\times 2^n$ Hilbert space. For example, in a problem with five decision variables the term $Z_1Z_3$ is understood to mean $I\\otimes Z_3\\otimes I\\otimes Z_1\\otimes I$ where $I$ is the $2\\times 2$ identity matrix.*\n",
    "\n",
    "This Hamiltonian is called the <b>cost function Hamiltonian</b>. It has the property that its ground state corresponds to the solution that <b>minimizes the cost function $f(x)$</b>.\n",
    "Therefore, to solve your optimization problem you now need to prepare the ground state of $H_C$ (or a state with a high overlap with it) on the quantum computer. Then, sampling from this state will, with a high probability, yield the solution to $min~f(x)$."
   ]
  },
  {
   "cell_type": "code",
   "execution_count": 4,
   "id": "61adff02-492f-4162-836d-55bc4a07703c",
   "metadata": {},
   "outputs": [
    {
     "name": "stdout",
     "output_type": "stream",
     "text": [
      "Cost Function Hamiltonian: SparsePauliOp(['IIIZIIIZ', 'IIIIZIZI', 'IIIZIIZI', 'IIIZIZII', 'IZIIZIII', 'IZIZIIII', 'IZZIIIII', 'ZZIIIIII'],\n",
      "              coeffs=[1.+0.j, 1.+0.j, 1.+0.j, 1.+0.j, 1.+0.j, 1.+0.j, 1.+0.j, 1.+0.j])\n"
     ]
    }
   ],
   "source": [
    "def build_max_cut_paulis(graph: rx.PyGraph) -> list[tuple[str, float]]:\n",
    "    \"\"\"Convert the graph to Pauli list.\n",
    "    This function does the inverse of `build_max_cut_graph`\n",
    "    \"\"\"\n",
    "    pauli_list = []\n",
    "    for edge in list(graph.edge_list()):\n",
    "        paulis = [\"I\"] * len(graph)\n",
    "        paulis[edge[0]], paulis[edge[1]] = \"Z\", \"Z\"\n",
    "        weight = graph.get_edge_data(edge[0], edge[1])\n",
    "        pauli_list.append((\"\".join(paulis)[::-1], weight))\n",
    "    return pauli_list\n",
    "\n",
    "max_cut_paulis = build_max_cut_paulis(graph)\n",
    "cost_hamiltonian = SparsePauliOp.from_list(max_cut_paulis)\n",
    "print(\"Cost Function Hamiltonian:\", cost_hamiltonian)"
   ]
  },
  {
   "cell_type": "markdown",
   "id": "459d6f5c-44ce-48de-a640-5ea42b37d9a4",
   "metadata": {},
   "source": [
    "### Hamiltonian → quantum circuit\n",
    "\n",
    "The Hamiltonian $H_c$ contains the quantum definition of our problem. Now we can create a quantum circuit that will help *sample* good solutions from the quantum computer. The QAOA is inspired by quantum annealing and applies alternating layers of operators in the quantum circuit.\n",
    "\n",
    "The general idea is to start in the ground state of a known system, $H^{\\otimes n}|0\\rangle$ above, and then steer the system into the ground state of the cost operator that you are interested in. This is done by applying the operators $\\exp\\{-i\\gamma_k H_C\\}$ and $\\exp\\{-i\\beta_k H_m\\}$ with angles $\\gamma_1,...,\\gamma_p$ and $\\beta_1,...,\\beta_p~$.\n",
    "\n",
    "The quantum circuit that we generate is **parametrized** by $\\gamma_i$ and $\\beta_i$, so you can try out different values of $\\gamma_i$ and $\\beta_i$ and sample from the resulting state.\n",
    "\n",
    "![Circuit diagram with QAOA layers](https://learning-api.quantum.ibm.com/assets/29a70f21-b453-4df7-b726-19468e5b1f51)\n",
    "\n",
    "In this case, we will try an example with one QAOA layer that contains two parameters: $\\gamma_1$ and $\\beta_1$."
   ]
  },
  {
   "cell_type": "code",
   "execution_count": 5,
   "id": "a79b74f5-7abb-4417-842e-ff2d698b21e1",
   "metadata": {},
   "outputs": [
    {
     "data": {
      "application/vnd.jupyter.widget-view+json": {
       "model_id": "054160052da942beac779533328cd2b6",
       "version_major": 2,
       "version_minor": 0
      },
      "text/plain": [
       "Button(description='Continue', style=ButtonStyle(button_color='darkblue'))"
      ]
     },
     "metadata": {},
     "output_type": "display_data"
    }
   ],
   "source": [
    "if n>20:\n",
    "    reps = 1\n",
    "else:\n",
    "    reps = 2\n",
    "circuit = QAOAAnsatz(cost_operator=cost_hamiltonian, reps=reps)\n",
    "circuit.measure_all()\n",
    "\n",
    "if dual_screen:\n",
    "    with out:\n",
    "        display(widgets.HTML(Norm+\"Abstract QAOA Ansatz circuit:\"))\n",
    "        display(circuit.draw('mpl', fold=False, idle_wires=False))\n",
    "else:\n",
    "    print(\"Abstract QAOA Ansatz circuit:\")\n",
    "    display(circuit.draw('mpl', fold=False, idle_wires=False))\n",
    "\n",
    "run.pause()"
   ]
  },
  {
   "cell_type": "code",
   "execution_count": 6,
   "id": "f8516f7f-617d-48f9-9891-8e98c1d90834",
   "metadata": {},
   "outputs": [
    {
     "data": {
      "text/plain": [
       "ParameterView([ParameterVectorElement(β[0]), ParameterVectorElement(β[1]), ParameterVectorElement(γ[0]), ParameterVectorElement(γ[1])])"
      ]
     },
     "execution_count": 6,
     "metadata": {},
     "output_type": "execute_result"
    }
   ],
   "source": [
    "circuit.parameters"
   ]
  },
  {
   "cell_type": "markdown",
   "id": "38d5d09b-ae4c-410e-854a-b1f821fcdcc6",
   "metadata": {},
   "source": [
    "<a id=\"nm_opt\"></a>\n",
    "# Step 2: Optimize for target hardware\n",
    "\n",
    "The circuit above contains a series of abstractions useful to think about quantum algorithms, but not possible to run on the hardware. To be able to run on a QPU, the circuit needs to undergo a series of operations that make up the **transpilation** or **circuit optimization** step of the pattern.\n",
    "\n",
    "The Qiskit library offers a series of **transpilation passes** that cater to a wide range of circuit transformations. You need to make sure that your circuit is **optimized** for your purpose.\n",
    "\n",
    "Transpilation may involves several steps, such as:\n",
    "\n",
    "* **Initial mapping** of the qubits in the circuit (such as decision variables) to physical qubits on the device.\n",
    "* **Unrolling** of the instructions in the quantum circuit to the hardware-native instructions that the backend understands.\n",
    "* **Routing** of any qubits in the circuit that interact to physical qubits that are adjacent with one another.\n",
    "* **Error suppression** by adding single-qubit gates to suppress noise with dynamical decoupling.\n",
    "\n",
    "More information about transpilation is available in our [documentation](https://docs.quantum.ibm.com/transpile).\n",
    "\n",
    "The following code transforms and optimizes the abstract circuit into a format that is ready for execution on one of devices accessible through the cloud using the **Qiskit IBM Runtime service**."
   ]
  },
  {
   "cell_type": "code",
   "execution_count": 7,
   "id": "a7cbc196-55a5-41eb-b026-c65383c5dc04",
   "metadata": {},
   "outputs": [
    {
     "name": "stderr",
     "output_type": "stream",
     "text": [
      "/tmp/ipykernel_1604/1395732816.py:16: DeprecationWarning: The `generate_preset_pass_manager` function will stop supporting inputs of type `BackendV1` ( fake_tokyo ) in the `backend` parameter in a future release no earlier than 2.0. `BackendV1` is deprecated and implementations should move to `BackendV2`.\n",
      "  pm = generate_preset_pass_manager(optimization_level=3, backend=backend)\n"
     ]
    }
   ],
   "source": [
    "# for n=99 show saved candidate circuit\n",
    "\n",
    "if n==99:\n",
    "    if dual_screen:\n",
    "        with out:\n",
    "            display(widgets.HTML(H1+\"Step 2. Optimize for target hardware\"))\n",
    "            display(widgets.HTML(Norm+\"Candidate circuit:\"))\n",
    "            display(Image(filename='./data/img/100_candidate_circuit.png'))\n",
    "    else:\n",
    "        print(\"Candidate circuit:\")\n",
    "        display(Image(filename='./data/img/100_candidate_circuit.png'))\n",
    "\n",
    "# build candidate circuit\n",
    "        \n",
    "else:\n",
    "    pm = generate_preset_pass_manager(optimization_level=3, backend=backend)\n",
    "    candidate_circuit = pm.run(circuit)\n",
    "    if n>20:\n",
    "        scale = 0.1\n",
    "    else:\n",
    "        scale = 0.2\n",
    "    \n",
    "    if dual_screen:\n",
    "        with out:\n",
    "            display(widgets.HTML(H1+\"Step 2. Optimize for target hardware\"))\n",
    "            display(widgets.HTML(Norm+\"Candidate circuit:\"))\n",
    "            display(candidate_circuit.draw('mpl', scale=scale, fold=False, idle_wires=False))\n",
    "            display(widgets.HTML(Norm+\"Optimizing the circuit -- may take a few minutes.\"))\n",
    "    else:\n",
    "        print(\"Candidate circuit:\")\n",
    "        display(candidate_circuit.draw('mpl', scale=scale, fold=False, idle_wires=False))\n",
    "        print(\"Optmizing the circuit -- may take a few minutes.\")\n",
    "\n",
    "    # record start time\n",
    "\n",
    "    st = time.time()"
   ]
  },
  {
   "cell_type": "markdown",
   "id": "ebf01ff9-34d6-4e77-a1c6-42dea6f58ea9",
   "metadata": {},
   "source": [
    "<a id=\"nm_execute\"></a>\n",
    "# Step 3: Execute on target hardware\n",
    "\n",
    "In the QAOA workflow, the optimal QAOA parameters are found in an iterative optimization loop, which runs a series of circuit evaluations and uses a classical optimizer to find the optimal $\\beta_k$ and $\\gamma_k$ parameters. This execution loop is executed via the following steps:\n",
    "\n",
    "1. Define the initial parameters\n",
    "2. Instantiate a new `Session` containing the optimization loop and the primitive used to sample the circuit\n",
    "3. Once an optimal set of parameters is found, execute the circuit a final time to obtain a final distribution which will be used in the post-process step.\n",
    "\n",
    "### Define circuit with initial parameters\n",
    "\n",
    "We start with arbitrary chosen parameters.\n",
    "\n",
    "### Backend and execution primitives\n",
    "\n",
    "Use the **Qiskit Runtime primitives** to interact with IBM® backends. The two primitives are Sampler and Estimator, and the choice of primitive depends on what type of measurement you want to run on the quantum computer. For the minimization of $H_c$, use the Estimator since the measurement of the cost function is simply the expectation value of $\\langle H_c \\rangle$.\n",
    "\n",
    "### Run\n",
    "\n",
    "The primitives offer a variety of [execution modes](https://docs.quantum.ibm.com/run/execution-modes) to schedule workloads on quantum devices, and a QAOA workflow runs iteratively in a session.\n",
    "\n",
    "![Illustration showing the behavior of Single job, Batch, and Session runtime modes.](https://learning-api.quantum.ibm.com/assets/73e400b1-e5a9-4ee8-9842-3e2bbfbef3f5)\n",
    "\n",
    "We will plug the sampler-based cost function into the SciPy minimizing routine to find the optimal parameters."
   ]
  },
  {
   "cell_type": "code",
   "execution_count": 8,
   "id": "d51afbac-28b2-4e46-ad0c-75246d809e82",
   "metadata": {},
   "outputs": [
    {
     "name": "stderr",
     "output_type": "stream",
     "text": [
      "/opt/ibm/conda/envs/quantum-notebooks-1.0.0/lib/python3.11/site-packages/qiskit_ibm_runtime/fake_provider/local_service.py:247: UserWarning: Options {'default_shots': 1000, 'dynamical_decoupling': {'enable': True, 'sequence_type': 'XY4'}} have no effect in local testing mode.\n",
      "  warnings.warn(f\"Options {options_copy} have no effect in local testing mode.\")\n"
     ]
    },
    {
     "name": "stdout",
     "output_type": "stream",
     "text": [
      "Iteration 1 cost = 0.115234375\n"
     ]
    },
    {
     "name": "stderr",
     "output_type": "stream",
     "text": [
      "/opt/ibm/conda/envs/quantum-notebooks-1.0.0/lib/python3.11/site-packages/qiskit_ibm_runtime/fake_provider/local_service.py:247: UserWarning: Options {'default_shots': 1000, 'dynamical_decoupling': {'enable': True, 'sequence_type': 'XY4'}} have no effect in local testing mode.\n",
      "  warnings.warn(f\"Options {options_copy} have no effect in local testing mode.\")\n"
     ]
    },
    {
     "name": "stdout",
     "output_type": "stream",
     "text": [
      "Iteration 2 cost = 0.03369140625\n"
     ]
    },
    {
     "name": "stderr",
     "output_type": "stream",
     "text": [
      "/opt/ibm/conda/envs/quantum-notebooks-1.0.0/lib/python3.11/site-packages/qiskit_ibm_runtime/fake_provider/local_service.py:247: UserWarning: Options {'default_shots': 1000, 'dynamical_decoupling': {'enable': True, 'sequence_type': 'XY4'}} have no effect in local testing mode.\n",
      "  warnings.warn(f\"Options {options_copy} have no effect in local testing mode.\")\n"
     ]
    },
    {
     "name": "stdout",
     "output_type": "stream",
     "text": [
      "Iteration 3 cost = -0.0419921875\n"
     ]
    },
    {
     "name": "stderr",
     "output_type": "stream",
     "text": [
      "/opt/ibm/conda/envs/quantum-notebooks-1.0.0/lib/python3.11/site-packages/qiskit_ibm_runtime/fake_provider/local_service.py:247: UserWarning: Options {'default_shots': 1000, 'dynamical_decoupling': {'enable': True, 'sequence_type': 'XY4'}} have no effect in local testing mode.\n",
      "  warnings.warn(f\"Options {options_copy} have no effect in local testing mode.\")\n"
     ]
    },
    {
     "name": "stdout",
     "output_type": "stream",
     "text": [
      "Iteration 4 cost = -0.203125\n"
     ]
    },
    {
     "name": "stderr",
     "output_type": "stream",
     "text": [
      "/opt/ibm/conda/envs/quantum-notebooks-1.0.0/lib/python3.11/site-packages/qiskit_ibm_runtime/fake_provider/local_service.py:247: UserWarning: Options {'default_shots': 1000, 'dynamical_decoupling': {'enable': True, 'sequence_type': 'XY4'}} have no effect in local testing mode.\n",
      "  warnings.warn(f\"Options {options_copy} have no effect in local testing mode.\")\n"
     ]
    },
    {
     "name": "stdout",
     "output_type": "stream",
     "text": [
      "Iteration 5 cost = -0.36083984375\n"
     ]
    },
    {
     "name": "stderr",
     "output_type": "stream",
     "text": [
      "/opt/ibm/conda/envs/quantum-notebooks-1.0.0/lib/python3.11/site-packages/qiskit_ibm_runtime/fake_provider/local_service.py:247: UserWarning: Options {'default_shots': 1000, 'dynamical_decoupling': {'enable': True, 'sequence_type': 'XY4'}} have no effect in local testing mode.\n",
      "  warnings.warn(f\"Options {options_copy} have no effect in local testing mode.\")\n"
     ]
    },
    {
     "name": "stdout",
     "output_type": "stream",
     "text": [
      "Iteration 6 cost = -0.23291015625\n"
     ]
    },
    {
     "name": "stderr",
     "output_type": "stream",
     "text": [
      "/opt/ibm/conda/envs/quantum-notebooks-1.0.0/lib/python3.11/site-packages/qiskit_ibm_runtime/fake_provider/local_service.py:247: UserWarning: Options {'default_shots': 1000, 'dynamical_decoupling': {'enable': True, 'sequence_type': 'XY4'}} have no effect in local testing mode.\n",
      "  warnings.warn(f\"Options {options_copy} have no effect in local testing mode.\")\n"
     ]
    },
    {
     "name": "stdout",
     "output_type": "stream",
     "text": [
      "Iteration 7 cost = -0.720703125\n"
     ]
    },
    {
     "name": "stderr",
     "output_type": "stream",
     "text": [
      "/opt/ibm/conda/envs/quantum-notebooks-1.0.0/lib/python3.11/site-packages/qiskit_ibm_runtime/fake_provider/local_service.py:247: UserWarning: Options {'default_shots': 1000, 'dynamical_decoupling': {'enable': True, 'sequence_type': 'XY4'}} have no effect in local testing mode.\n",
      "  warnings.warn(f\"Options {options_copy} have no effect in local testing mode.\")\n"
     ]
    },
    {
     "name": "stdout",
     "output_type": "stream",
     "text": [
      "Iteration 8 cost = -0.24951171875\n"
     ]
    },
    {
     "name": "stderr",
     "output_type": "stream",
     "text": [
      "/opt/ibm/conda/envs/quantum-notebooks-1.0.0/lib/python3.11/site-packages/qiskit_ibm_runtime/fake_provider/local_service.py:247: UserWarning: Options {'default_shots': 1000, 'dynamical_decoupling': {'enable': True, 'sequence_type': 'XY4'}} have no effect in local testing mode.\n",
      "  warnings.warn(f\"Options {options_copy} have no effect in local testing mode.\")\n"
     ]
    },
    {
     "name": "stdout",
     "output_type": "stream",
     "text": [
      "Iteration 9 cost = -0.76806640625\n"
     ]
    },
    {
     "name": "stderr",
     "output_type": "stream",
     "text": [
      "/opt/ibm/conda/envs/quantum-notebooks-1.0.0/lib/python3.11/site-packages/qiskit_ibm_runtime/fake_provider/local_service.py:247: UserWarning: Options {'default_shots': 1000, 'dynamical_decoupling': {'enable': True, 'sequence_type': 'XY4'}} have no effect in local testing mode.\n",
      "  warnings.warn(f\"Options {options_copy} have no effect in local testing mode.\")\n"
     ]
    },
    {
     "name": "stdout",
     "output_type": "stream",
     "text": [
      "Iteration 10 cost = 1.02783203125\n"
     ]
    },
    {
     "name": "stderr",
     "output_type": "stream",
     "text": [
      "/opt/ibm/conda/envs/quantum-notebooks-1.0.0/lib/python3.11/site-packages/qiskit_ibm_runtime/fake_provider/local_service.py:247: UserWarning: Options {'default_shots': 1000, 'dynamical_decoupling': {'enable': True, 'sequence_type': 'XY4'}} have no effect in local testing mode.\n",
      "  warnings.warn(f\"Options {options_copy} have no effect in local testing mode.\")\n"
     ]
    },
    {
     "name": "stdout",
     "output_type": "stream",
     "text": [
      "Iteration 11 cost = -0.728515625\n"
     ]
    },
    {
     "name": "stderr",
     "output_type": "stream",
     "text": [
      "/opt/ibm/conda/envs/quantum-notebooks-1.0.0/lib/python3.11/site-packages/qiskit_ibm_runtime/fake_provider/local_service.py:247: UserWarning: Options {'default_shots': 1000, 'dynamical_decoupling': {'enable': True, 'sequence_type': 'XY4'}} have no effect in local testing mode.\n",
      "  warnings.warn(f\"Options {options_copy} have no effect in local testing mode.\")\n"
     ]
    },
    {
     "name": "stdout",
     "output_type": "stream",
     "text": [
      "Iteration 12 cost = 0.24267578125\n"
     ]
    },
    {
     "name": "stderr",
     "output_type": "stream",
     "text": [
      "/opt/ibm/conda/envs/quantum-notebooks-1.0.0/lib/python3.11/site-packages/qiskit_ibm_runtime/fake_provider/local_service.py:247: UserWarning: Options {'default_shots': 1000, 'dynamical_decoupling': {'enable': True, 'sequence_type': 'XY4'}} have no effect in local testing mode.\n",
      "  warnings.warn(f\"Options {options_copy} have no effect in local testing mode.\")\n"
     ]
    },
    {
     "name": "stdout",
     "output_type": "stream",
     "text": [
      "Iteration 13 cost = -0.98486328125\n"
     ]
    },
    {
     "name": "stderr",
     "output_type": "stream",
     "text": [
      "/opt/ibm/conda/envs/quantum-notebooks-1.0.0/lib/python3.11/site-packages/qiskit_ibm_runtime/fake_provider/local_service.py:247: UserWarning: Options {'default_shots': 1000, 'dynamical_decoupling': {'enable': True, 'sequence_type': 'XY4'}} have no effect in local testing mode.\n",
      "  warnings.warn(f\"Options {options_copy} have no effect in local testing mode.\")\n"
     ]
    },
    {
     "name": "stdout",
     "output_type": "stream",
     "text": [
      "Iteration 14 cost = -1.076171875\n"
     ]
    },
    {
     "name": "stderr",
     "output_type": "stream",
     "text": [
      "/opt/ibm/conda/envs/quantum-notebooks-1.0.0/lib/python3.11/site-packages/qiskit_ibm_runtime/fake_provider/local_service.py:247: UserWarning: Options {'default_shots': 1000, 'dynamical_decoupling': {'enable': True, 'sequence_type': 'XY4'}} have no effect in local testing mode.\n",
      "  warnings.warn(f\"Options {options_copy} have no effect in local testing mode.\")\n"
     ]
    },
    {
     "name": "stdout",
     "output_type": "stream",
     "text": [
      "Iteration 15 cost = -0.8857421875\n"
     ]
    },
    {
     "name": "stderr",
     "output_type": "stream",
     "text": [
      "/opt/ibm/conda/envs/quantum-notebooks-1.0.0/lib/python3.11/site-packages/qiskit_ibm_runtime/fake_provider/local_service.py:247: UserWarning: Options {'default_shots': 1000, 'dynamical_decoupling': {'enable': True, 'sequence_type': 'XY4'}} have no effect in local testing mode.\n",
      "  warnings.warn(f\"Options {options_copy} have no effect in local testing mode.\")\n"
     ]
    },
    {
     "name": "stdout",
     "output_type": "stream",
     "text": [
      "Iteration 16 cost = -1.10498046875\n"
     ]
    },
    {
     "name": "stderr",
     "output_type": "stream",
     "text": [
      "/opt/ibm/conda/envs/quantum-notebooks-1.0.0/lib/python3.11/site-packages/qiskit_ibm_runtime/fake_provider/local_service.py:247: UserWarning: Options {'default_shots': 1000, 'dynamical_decoupling': {'enable': True, 'sequence_type': 'XY4'}} have no effect in local testing mode.\n",
      "  warnings.warn(f\"Options {options_copy} have no effect in local testing mode.\")\n"
     ]
    },
    {
     "name": "stdout",
     "output_type": "stream",
     "text": [
      "Iteration 17 cost = -1.01513671875\n"
     ]
    },
    {
     "name": "stderr",
     "output_type": "stream",
     "text": [
      "/opt/ibm/conda/envs/quantum-notebooks-1.0.0/lib/python3.11/site-packages/qiskit_ibm_runtime/fake_provider/local_service.py:247: UserWarning: Options {'default_shots': 1000, 'dynamical_decoupling': {'enable': True, 'sequence_type': 'XY4'}} have no effect in local testing mode.\n",
      "  warnings.warn(f\"Options {options_copy} have no effect in local testing mode.\")\n"
     ]
    },
    {
     "name": "stdout",
     "output_type": "stream",
     "text": [
      "Iteration 18 cost = -1.080078125\n"
     ]
    },
    {
     "name": "stderr",
     "output_type": "stream",
     "text": [
      "/opt/ibm/conda/envs/quantum-notebooks-1.0.0/lib/python3.11/site-packages/qiskit_ibm_runtime/fake_provider/local_service.py:247: UserWarning: Options {'default_shots': 1000, 'dynamical_decoupling': {'enable': True, 'sequence_type': 'XY4'}} have no effect in local testing mode.\n",
      "  warnings.warn(f\"Options {options_copy} have no effect in local testing mode.\")\n"
     ]
    },
    {
     "name": "stdout",
     "output_type": "stream",
     "text": [
      "Iteration 19 cost = -1.08544921875\n"
     ]
    },
    {
     "name": "stderr",
     "output_type": "stream",
     "text": [
      "/opt/ibm/conda/envs/quantum-notebooks-1.0.0/lib/python3.11/site-packages/qiskit_ibm_runtime/fake_provider/local_service.py:247: UserWarning: Options {'default_shots': 1000, 'dynamical_decoupling': {'enable': True, 'sequence_type': 'XY4'}} have no effect in local testing mode.\n",
      "  warnings.warn(f\"Options {options_copy} have no effect in local testing mode.\")\n"
     ]
    },
    {
     "name": "stdout",
     "output_type": "stream",
     "text": [
      "Iteration 20 cost = -1.05859375\n"
     ]
    },
    {
     "name": "stderr",
     "output_type": "stream",
     "text": [
      "/opt/ibm/conda/envs/quantum-notebooks-1.0.0/lib/python3.11/site-packages/qiskit_ibm_runtime/fake_provider/local_service.py:247: UserWarning: Options {'default_shots': 1000, 'dynamical_decoupling': {'enable': True, 'sequence_type': 'XY4'}} have no effect in local testing mode.\n",
      "  warnings.warn(f\"Options {options_copy} have no effect in local testing mode.\")\n"
     ]
    },
    {
     "name": "stdout",
     "output_type": "stream",
     "text": [
      "Iteration 21 cost = -1.01416015625\n"
     ]
    },
    {
     "name": "stderr",
     "output_type": "stream",
     "text": [
      "/opt/ibm/conda/envs/quantum-notebooks-1.0.0/lib/python3.11/site-packages/qiskit_ibm_runtime/fake_provider/local_service.py:247: UserWarning: Options {'default_shots': 1000, 'dynamical_decoupling': {'enable': True, 'sequence_type': 'XY4'}} have no effect in local testing mode.\n",
      "  warnings.warn(f\"Options {options_copy} have no effect in local testing mode.\")\n"
     ]
    },
    {
     "name": "stdout",
     "output_type": "stream",
     "text": [
      "Iteration 22 cost = -1.00341796875\n"
     ]
    },
    {
     "name": "stderr",
     "output_type": "stream",
     "text": [
      "/opt/ibm/conda/envs/quantum-notebooks-1.0.0/lib/python3.11/site-packages/qiskit_ibm_runtime/fake_provider/local_service.py:247: UserWarning: Options {'default_shots': 1000, 'dynamical_decoupling': {'enable': True, 'sequence_type': 'XY4'}} have no effect in local testing mode.\n",
      "  warnings.warn(f\"Options {options_copy} have no effect in local testing mode.\")\n"
     ]
    },
    {
     "name": "stdout",
     "output_type": "stream",
     "text": [
      "Iteration 23 cost = -0.99609375\n"
     ]
    },
    {
     "name": "stderr",
     "output_type": "stream",
     "text": [
      "/opt/ibm/conda/envs/quantum-notebooks-1.0.0/lib/python3.11/site-packages/qiskit_ibm_runtime/fake_provider/local_service.py:247: UserWarning: Options {'default_shots': 1000, 'dynamical_decoupling': {'enable': True, 'sequence_type': 'XY4'}} have no effect in local testing mode.\n",
      "  warnings.warn(f\"Options {options_copy} have no effect in local testing mode.\")\n"
     ]
    },
    {
     "name": "stdout",
     "output_type": "stream",
     "text": [
      "Iteration 24 cost = -0.97802734375\n"
     ]
    },
    {
     "name": "stderr",
     "output_type": "stream",
     "text": [
      "/opt/ibm/conda/envs/quantum-notebooks-1.0.0/lib/python3.11/site-packages/qiskit_ibm_runtime/fake_provider/local_service.py:247: UserWarning: Options {'default_shots': 1000, 'dynamical_decoupling': {'enable': True, 'sequence_type': 'XY4'}} have no effect in local testing mode.\n",
      "  warnings.warn(f\"Options {options_copy} have no effect in local testing mode.\")\n"
     ]
    },
    {
     "name": "stdout",
     "output_type": "stream",
     "text": [
      "Iteration 25 cost = -1.00048828125\n"
     ]
    },
    {
     "name": "stderr",
     "output_type": "stream",
     "text": [
      "/opt/ibm/conda/envs/quantum-notebooks-1.0.0/lib/python3.11/site-packages/qiskit_ibm_runtime/fake_provider/local_service.py:247: UserWarning: Options {'default_shots': 1000, 'dynamical_decoupling': {'enable': True, 'sequence_type': 'XY4'}} have no effect in local testing mode.\n",
      "  warnings.warn(f\"Options {options_copy} have no effect in local testing mode.\")\n"
     ]
    },
    {
     "name": "stdout",
     "output_type": "stream",
     "text": [
      "Iteration 26 cost = -0.9931640625\n"
     ]
    },
    {
     "name": "stderr",
     "output_type": "stream",
     "text": [
      "/opt/ibm/conda/envs/quantum-notebooks-1.0.0/lib/python3.11/site-packages/qiskit_ibm_runtime/fake_provider/local_service.py:247: UserWarning: Options {'default_shots': 1000, 'dynamical_decoupling': {'enable': True, 'sequence_type': 'XY4'}} have no effect in local testing mode.\n",
      "  warnings.warn(f\"Options {options_copy} have no effect in local testing mode.\")\n"
     ]
    },
    {
     "name": "stdout",
     "output_type": "stream",
     "text": [
      "Iteration 27 cost = -1.06103515625\n"
     ]
    },
    {
     "name": "stderr",
     "output_type": "stream",
     "text": [
      "/opt/ibm/conda/envs/quantum-notebooks-1.0.0/lib/python3.11/site-packages/qiskit_ibm_runtime/fake_provider/local_service.py:247: UserWarning: Options {'default_shots': 1000, 'dynamical_decoupling': {'enable': True, 'sequence_type': 'XY4'}} have no effect in local testing mode.\n",
      "  warnings.warn(f\"Options {options_copy} have no effect in local testing mode.\")\n"
     ]
    },
    {
     "name": "stdout",
     "output_type": "stream",
     "text": [
      "Iteration 28 cost = -0.9697265625\n"
     ]
    },
    {
     "name": "stderr",
     "output_type": "stream",
     "text": [
      "/opt/ibm/conda/envs/quantum-notebooks-1.0.0/lib/python3.11/site-packages/qiskit_ibm_runtime/fake_provider/local_service.py:247: UserWarning: Options {'default_shots': 1000, 'dynamical_decoupling': {'enable': True, 'sequence_type': 'XY4'}} have no effect in local testing mode.\n",
      "  warnings.warn(f\"Options {options_copy} have no effect in local testing mode.\")\n"
     ]
    },
    {
     "name": "stdout",
     "output_type": "stream",
     "text": [
      "Iteration 29 cost = -1.0859375\n"
     ]
    },
    {
     "name": "stderr",
     "output_type": "stream",
     "text": [
      "/opt/ibm/conda/envs/quantum-notebooks-1.0.0/lib/python3.11/site-packages/qiskit_ibm_runtime/fake_provider/local_service.py:247: UserWarning: Options {'default_shots': 1000, 'dynamical_decoupling': {'enable': True, 'sequence_type': 'XY4'}} have no effect in local testing mode.\n",
      "  warnings.warn(f\"Options {options_copy} have no effect in local testing mode.\")\n"
     ]
    },
    {
     "name": "stdout",
     "output_type": "stream",
     "text": [
      "Iteration 30 cost = -0.939453125\n",
      "Optimization result:\n",
      " message: Maximum number of function evaluations has been exceeded.\n",
      " success: False\n",
      "  status: 2\n",
      "     fun: -1.10498046875\n",
      "       x: [ 3.346e+00  2.566e+00  4.039e+00  2.929e+00]\n",
      "    nfev: 30\n",
      "   maxcv: 0.0\n"
     ]
    }
   ],
   "source": [
    "initial_gamma = np.pi\n",
    "initial_beta = np.pi/2\n",
    "iteration = 0\n",
    "if reps==1:\n",
    "    init_params = [initial_gamma, initial_beta]\n",
    "else:  # assume reps==2\n",
    "    init_params = [initial_gamma, initial_beta, initial_gamma, initial_beta]\n",
    "objective_func_vals = []  # global used in cost_func_estimator\n",
    "    \n",
    "def cost_func_estimator(params, ansatz, hamiltonian, estimator):\n",
    "    # transform the observable defined on virtual qubits to\n",
    "    # an observable defined on all physical qubits\n",
    "    isa_hamiltonian = hamiltonian.apply_layout(ansatz.layout)\n",
    "    pub = (ansatz, isa_hamiltonian, params)\n",
    "    job = estimator.run([pub])\n",
    "    results = job.result()[0]\n",
    "    cost = results.data.evs\n",
    "    global iteration\n",
    "    iteration += 1\n",
    "    print(f\"Iteration {iteration} cost = {cost}\")\n",
    "    objective_func_vals.append(cost)\n",
    "    return cost\n",
    "\n",
    "# calculate optimal QAOA parameters\n",
    "\n",
    "if skip_opt:\n",
    "    print(f\"Skipping optimization, resultx = {resultx}\")\n",
    "elif n!=99:\n",
    "    with Session(backend=backend) as session:\n",
    "        estimator = Estimator(mode=session)\n",
    "        estimator.options.default_shots = 1000\n",
    "        # Set simple error suppression/mitigation options\n",
    "        estimator.options.dynamical_decoupling.enable = True\n",
    "        estimator.options.dynamical_decoupling.sequence_type = \"XY4\"\n",
    "    #    estimator.options.twirling.enable_gates = True                  -- commented out to speed up\n",
    "    #    estimator.options.twirling.num_randomizations = \"auto\"          -- commented out to speed up\n",
    "        result = minimize(\n",
    "            cost_func_estimator,\n",
    "            init_params,\n",
    "            args=(candidate_circuit, cost_hamiltonian, estimator),\n",
    "            method=\"COBYLA\",\n",
    "            options={'maxiter':opt_iterations}\n",
    "        )\n",
    "    resultx = result.x\n",
    "    print(\"Optimization result:\")\n",
    "    print(result)"
   ]
  },
  {
   "cell_type": "code",
   "execution_count": 9,
   "id": "23695e3d-ef7d-4247-8852-5469a94439ca",
   "metadata": {},
   "outputs": [
    {
     "name": "stdout",
     "output_type": "stream",
     "text": [
      "Optimization time: 0.97 minutes\n"
     ]
    }
   ],
   "source": [
    "# for n=99 show saved optimization results\n",
    "\n",
    "if n==99:\n",
    "    if dual_screen:\n",
    "        with out:\n",
    "            display(widgets.HTML(Norm+\"Optimization results:\"))\n",
    "            display(Image(filename='./data/img/100_opt_results.png'))\n",
    "    else:\n",
    "        print(\"Optimization results:\")\n",
    "        display(Image(filename='./data/img/100_opt_results.png'))\n",
    "\n",
    "# show optimization time and results\n",
    "        \n",
    "elif not skip_opt:\n",
    "    et = time.time()\n",
    "    print(f\"Optimization time: {round((et-st)/60,2)} minutes\")\n",
    "    if dual_screen:\n",
    "        with out:\n",
    "            display(widgets.HTML(Norm+\"Optimization time: \"+str(round((et-st)/60,2))+\" minutes\"))\n",
    "            display(widgets.HTML(Norm+\"Optimization results:\"))\n",
    "            plt.figure(figsize=(12, 6))\n",
    "            plt.plot(objective_func_vals)\n",
    "            plt.xlabel(\"Iteration\")\n",
    "            plt.ylabel(\"Cost\")\n",
    "            plt.show()\n",
    "    else:\n",
    "        print(\"Optimization results:\")\n",
    "        plt.figure(figsize=(12, 6))\n",
    "        plt.plot(objective_func_vals)\n",
    "        plt.xlabel(\"Iteration\")\n",
    "        plt.ylabel(\"Cost\")\n",
    "        plt.show()"
   ]
  },
  {
   "cell_type": "markdown",
   "id": "98ea3f90-a2f4-46f1-b316-d0cbe3a79f0a",
   "metadata": {},
   "source": [
    "Once we have found the optimal parameters for the circuit, we assign these parameters and sample the final distribution obtained with the optimized parameters. Here is where the *Sampler* primitive should be used since it is the probability distribution of bitstring measurements which correspond to the optimal cut of the graph.\n",
    "\n",
    "**Note:** This means preparing a quantum state $\\psi$ in the computer and then measuring it. A measurement will collapse the state into a single computational basis state - for example, `010101110000...` - which corresponds to a candidate solution $x$ to our initial optimization problem ($\\max f(x)$ or $\\min f(x)$ depending on the task)."
   ]
  },
  {
   "cell_type": "code",
   "execution_count": 10,
   "id": "65b1de4d-4f80-442f-8557-5768c6b497d1",
   "metadata": {},
   "outputs": [
    {
     "data": {
      "application/vnd.jupyter.widget-view+json": {
       "model_id": "3c67b7e268a64ab59b47bd0605f8f8d6",
       "version_major": 2,
       "version_minor": 0
      },
      "text/plain": [
       "Button(description='Continue', style=ButtonStyle(button_color='darkblue'))"
      ]
     },
     "metadata": {},
     "output_type": "display_data"
    }
   ],
   "source": [
    "run.pause()\n",
    "\n",
    "# for n=99 show saved optimal circuit\n",
    "\n",
    "if n==99:\n",
    "    if dual_screen:\n",
    "        with out:\n",
    "            display(widgets.HTML(H1+\"Step 3. Execute on target hardware\"))\n",
    "            display(widgets.HTML(Norm+\"Optimized circuit:\"))\n",
    "            display(Image(filename='./data/img/100_opt_circuit.png'))\n",
    "            display(widgets.HTML(Norm+\"Sampling the circuit\"))\n",
    "    else:\n",
    "        print(\"Optimized circuit:\")\n",
    "        display(Image(filename='./data/img/100_opt_circuit.png'))\n",
    "        \n",
    "else:\n",
    "    \n",
    "    # create optimized circuit\n",
    "\n",
    "    optimized_circuit = candidate_circuit.assign_parameters(resultx)\n",
    "    \n",
    "    if n>20:\n",
    "        scale = 0.1\n",
    "    else:\n",
    "        scale = 0.2\n",
    "    if dual_screen:\n",
    "        with out:\n",
    "            out.clear_output()\n",
    "            display(widgets.HTML(H1+\"Step 3. Execute on target hardware\"))\n",
    "            display(widgets.HTML(Norm+\"Optimized circuit:\"))\n",
    "            display(optimized_circuit.draw('mpl', scale=scale, fold=False, idle_wires=False))\n",
    "            display(widgets.HTML(Norm+\"Sampling the circuit -- may take a few minutes.\"))\n",
    "    else:\n",
    "        print(\"Optimized circuit:\")\n",
    "        display(optimized_circuit.draw('mpl', scale=scale, fold=False, idle_wires=False))\n",
    "        print(\"Sampling the circuit -- may take a few minutes.\")\n",
    "    \n",
    "    # record the start time\n",
    "\n",
    "    st = time.time()"
   ]
  },
  {
   "cell_type": "code",
   "execution_count": 11,
   "id": "250abcbf-0f04-4f93-b5a3-2b6ce7ccb982",
   "metadata": {},
   "outputs": [
    {
     "name": "stderr",
     "output_type": "stream",
     "text": [
      "/opt/ibm/conda/envs/quantum-notebooks-1.0.0/lib/python3.11/site-packages/qiskit_ibm_runtime/fake_provider/local_service.py:247: UserWarning: Options {'dynamical_decoupling': {'enable': True, 'sequence_type': 'XY4'}, 'twirling': {'enable_gates': True, 'num_randomizations': 'auto'}} have no effect in local testing mode.\n",
      "  warnings.warn(f\"Options {options_copy} have no effect in local testing mode.\")\n"
     ]
    },
    {
     "name": "stdout",
     "output_type": "stream",
     "text": [
      "Sampling time: 0.04 minutes\n"
     ]
    }
   ],
   "source": [
    "if n!=99:\n",
    "    sampler = Sampler(mode=backend)\n",
    "    sampler.options.default_shots = num_shots\n",
    "\n",
    "    # Set simple error suppression/mitigation options\n",
    "    \n",
    "    sampler.options.dynamical_decoupling.enable = True\n",
    "    sampler.options.dynamical_decoupling.sequence_type = \"XY4\"\n",
    "    sampler.options.twirling.enable_gates = True\n",
    "    sampler.options.twirling.num_randomizations = \"auto\"\n",
    "\n",
    "    pub = (optimized_circuit, )\n",
    "    job = sampler.run([pub], shots=num_shots)\n",
    "    counts_int = job.result()[0].data.meas.get_int_counts()\n",
    "    counts_bin = job.result()[0].data.meas.get_counts()\n",
    "    shots = sum(counts_int.values())\n",
    "    final_distribution_int = {key: val/shots for key, val in counts_int.items()}\n",
    "    final_distribution_bin = {key: val/shots for key, val in counts_bin.items()}\n",
    "    \n",
    "    # display sampling time\n",
    "    \n",
    "    et = time.time()\n",
    "    if dual_screen:\n",
    "        with out:\n",
    "            display(widgets.HTML(Norm+\"Sampling time: \"+str(round((et-st)/60,2))+\" minutes\"))\n",
    "    print(f\"Sampling time: {round((et-st)/60,2)} minutes\")"
   ]
  },
  {
   "cell_type": "markdown",
   "id": "b828ab03-b11e-4d6a-a450-c37352eb1e61",
   "metadata": {
    "tags": []
   },
   "source": [
    "<a id=\"nm_processing\"></a>\n",
    "# Step 4: Post-process results\n",
    "\n",
    "The post-processing step analyzes the sampling output to return a solution for our original problem. The sampling output is a set of 2^^n bitstrings. This can be a very large number of bitstrings if n is large. We want to find the bitstring with the largest MaxCut value (number of edges connecting the two subsets). The bitstring with the highest probability is not necessarily the bitstring with the largest MaxCut value. We have to find the top bitstrings and evaluate their MaxCut values."
   ]
  },
  {
   "cell_type": "code",
   "execution_count": 12,
   "id": "b429d026-c60c-4c3f-8714-a153c9b63e3f",
   "metadata": {},
   "outputs": [
    {
     "data": {
      "application/vnd.jupyter.widget-view+json": {
       "model_id": "caacf9be5dd94ba0878ac003b9ffb932",
       "version_major": 2,
       "version_minor": 0
      },
      "text/plain": [
       "Button(description='Continue', style=ButtonStyle(button_color='darkblue'))"
      ]
     },
     "metadata": {},
     "output_type": "display_data"
    }
   ],
   "source": [
    "run.pause()\n",
    "\n",
    "def evaluate_sample(x: Sequence[int], graph: rx.PyGraph) -> float:\n",
    "    assert len(x) == len(list(graph.nodes())), \"The length of x must coincide with the number of nodes in the graph.\"\n",
    "    return sum(x[u] * (1 - x[v]) + x[v] * (1 - x[u]) for u, v in list(graph.edge_list()))\n",
    "\n",
    "def visualize_counts(probs, num_qubits):\n",
    "    \"\"\"Visualize the outputs from the Qiskit Sampler primitive.\"\"\"\n",
    "    top = dict(sorted(probs.items(), key=lambda item: item[1], reverse=True)[:40])\n",
    "    xvals, yvals = list(zip(*top.items()))\n",
    "    plt.bar(xvals, yvals, color=\"tab:blue\")\n",
    "    plt.xticks(rotation=75)\n",
    "    plt.title(\"Top measured bitstrings\")\n",
    "    plt.xlabel(\"Measured bitstring\")\n",
    "    plt.ylabel(\"Probability\")\n",
    "    plt.show()\n",
    "    return top\n",
    "\n",
    "# for n=99 show saved top bitstrings\n",
    "\n",
    "if n==99:\n",
    "    if dual_screen:\n",
    "        with out:\n",
    "            out.clear_output()\n",
    "            display(widgets.HTML(H1+\"Step 4. Post-process results\"))\n",
    "            display(Image(filename='./data/img/100_bitstrings.png'))\n",
    "    else:\n",
    "        display(Image(filename='./data/img/100_bitstrings.png'))\n",
    "        \n",
    "else:\n",
    "    \n",
    "    # display some of the top bitstrings\n",
    "    \n",
    "    if dual_screen:\n",
    "        with out:\n",
    "            out.clear_output()\n",
    "            display(widgets.HTML(H1+\"Step 4. Post-process results\"))\n",
    "            top = visualize_counts(final_distribution_bin, len(graph))\n",
    "    else:\n",
    "        top = visualize_counts(final_distribution_bin, len(graph))\n",
    "        \n",
    "    # obtain a larger set of top bitstrings\n",
    "    \n",
    "    top = dict(sorted(final_distribution_bin.items(), key=lambda item: item[1], reverse=True)[:num_bitstrings])"
   ]
  },
  {
   "cell_type": "code",
   "execution_count": 13,
   "id": "cdda27b4-043c-405f-b684-e4dbb57879a4",
   "metadata": {},
   "outputs": [
    {
     "name": "stdout",
     "output_type": "stream",
     "text": [
      "MaxCut bitstring:  10111000\n",
      "The value of the cut is: 8\n"
     ]
    },
    {
     "data": {
      "application/vnd.jupyter.widget-view+json": {
       "model_id": "e5ca6969dab74744af1771d1fb2408b9",
       "version_major": 2,
       "version_minor": 0
      },
      "text/plain": [
       "Button(description='Continue', style=ButtonStyle(button_color='darkblue'))"
      ]
     },
     "metadata": {},
     "output_type": "display_data"
    }
   ],
   "source": [
    "# find the bitstring from the top bitstrings that has the highest MaxCut value\n",
    "\n",
    "if n!=99:\n",
    "    cut_value = 0.0\n",
    "    best_sol_bitstring = ''\n",
    "    best_int_list = []\n",
    "    i = 0\n",
    "    for bit_str, prob in top.items():\n",
    "        string_list = list(bit_str)\n",
    "        int_list = []\n",
    "        for s in string_list:\n",
    "            int_list.append(int(s))\n",
    "        int_list.reverse()\n",
    "        cut_value_new = evaluate_sample(int_list, graph)\n",
    "        i+=1\n",
    "        if show_bitstrings:\n",
    "            print(f\"Evaluating {i}: {bit_str} --> {cut_value_new}\")\n",
    "        if cut_value_new > cut_value:\n",
    "            cut_value = cut_value_new\n",
    "            best_sol_bitstring = bit_str\n",
    "            best_int_list = int_list\n",
    "\n",
    "    if dual_screen:\n",
    "        with out:\n",
    "            display(widgets.HTML(Norm+\"MaxCut bitstring: \" + best_sol_bitstring))\n",
    "            display(widgets.HTML(Norm+\"The value of the cut is: \" + str(cut_value)))\n",
    "\n",
    "    print(\"MaxCut bitstring: \", best_sol_bitstring)\n",
    "    print('The value of the cut is:', cut_value)\n",
    "    \n",
    "run.pause()"
   ]
  },
  {
   "cell_type": "markdown",
   "id": "70e8a907-d2f6-4463-8228-6fe878ac1e02",
   "metadata": {},
   "source": [
    "Visualize the best cut in the original graph"
   ]
  },
  {
   "cell_type": "code",
   "execution_count": null,
   "id": "01f6dce5-0447-4e07-b3e2-7eddea0ee546",
   "metadata": {},
   "outputs": [],
   "source": [
    "# for n=99 show saved best graph\n",
    "\n",
    "if n==99:\n",
    "    if dual_screen:\n",
    "        with out:\n",
    "            display(Image(filename='./data/img/100_best_graph.png'))\n",
    "    else:\n",
    "        display(Image(filename='./data/img/100_best_graph.png'))\n",
    "        \n",
    "else:\n",
    "    colors = [\"tab:pink\" if i==0 else \"tab:cyan\" for i in best_int_list]\n",
    "    node_size = 300\n",
    "    if dual_screen:\n",
    "        with out:\n",
    "            out.clear_output()\n",
    "            display(widgets.HTML(H1+\"Step 4. Post-process results\"))\n",
    "            draw_graph(graph, node_color=colors, node_size=node_size, with_labels=True, width=1)\n",
    "            plt.show()\n",
    "            display(widgets.HTML(Norm+\"The value of the cut is: \" + str(cut_value)))\n",
    "    else:\n",
    "        draw_graph(graph, node_color=colors, node_size=node_size, with_labels=True, width=1)\n",
    "        print('The value of the cut is:', cut_value)\n",
    "    \n",
    "run.resume()"
   ]
  },
  {
   "cell_type": "markdown",
   "id": "47d67775-d6f7-4c61-b2e2-1a6498a0eb97",
   "metadata": {},
   "source": [
    "<a id=\"nm_conclusion\"></a>\n",
    "# Conclusion\n",
    "\n",
    "This notebook presented Python code that solves a sample MaxCut problem using Qiskit on an IBM Quantum computer or simulator. MaxCut has applications in clustering, network science, and statistical physics. As a practical example, this notebook focused on a system of many people who can interact and influence each other's buying decisions. MaxCut was used to identify the optimal subset of individuals that should get the free products.\n",
    "\n",
    "Users can create their own MaxCut solutions by uploading their data and customizing this code."
   ]
  },
  {
   "cell_type": "markdown",
   "id": "92e6ad25-901a-41ce-8da1-ac407aa5340a",
   "metadata": {},
   "source": [
    "<a id=\"nm_learn\"></a>\n",
    "# Learn More\n",
    "\n",
    "- [IBM Quantum Learning](https://learning.quantum-computing.ibm.com/) provides an extensive portfolio of educational content on Quantum computing.\n",
    "- [IBM Quantum Accelerator](https://research.ibm.com/blog/quantum-accelerator-program) is a full-service offering for clients looking to build on access offered by our Premium Plan. Quantum Accelerator clients get personalized support plans to fully prepare for the coming impact of Quantum in their industries.\n",
    "- [IBM Quantum GitHub](https://github.com/jaygambetta/my-notebooks) is an open source code repository for IBM Quantum examples.\n",
    "\n",
    "If you have any questions or wish to schedule a technical deep dive, contact us by email at IBM.Research.JupyterLab@ibm.com."
   ]
  },
  {
   "cell_type": "markdown",
   "id": "0d6c32e0-300b-4e31-83d1-cd7f71dfe797",
   "metadata": {},
   "source": [
    "© 2024 IBM Corporation"
   ]
  }
 ],
 "metadata": {
  "kernelspec": {
   "display_name": "Python [conda env:conda-quantum-notebooks-1.0.0]",
   "language": "python",
   "name": "conda-env-conda-quantum-notebooks-1.0.0-py"
  },
  "language_info": {
   "codemirror_mode": {
    "name": "ipython",
    "version": 3
   },
   "file_extension": ".py",
   "mimetype": "text/x-python",
   "name": "python",
   "nbconvert_exporter": "python",
   "pygments_lexer": "ipython3",
   "version": "3.11.10"
  }
 },
 "nbformat": 4,
 "nbformat_minor": 5
}
